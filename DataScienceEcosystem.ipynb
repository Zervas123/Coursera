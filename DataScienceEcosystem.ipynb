{
 "cells": [
  {
   "cell_type": "markdown",
   "id": "a0a2f20d-0153-4b8b-8b1c-a60b8b6bd49b",
   "metadata": {},
   "source": [
    "<h1>Data Science Tools and EcoSystem\n",
    "    "
   ]
  },
  {
   "cell_type": "markdown",
   "id": "c8029a11-f1f1-4a5e-970f-dd4ac7cd1d5b",
   "metadata": {},
   "source": [
    "In this notebook, Data Science Tools and Ecosystem are summarized."
   ]
  },
  {
   "cell_type": "markdown",
   "id": "3b395084-ca8c-41fe-98d3-55599edc9578",
   "metadata": {},
   "source": [
    "<h2> Author</h2>\n",
    "Brandon Wood"
   ]
  },
  {
   "cell_type": "markdown",
   "id": "80f12806-b4c9-491a-9c5d-d38ca4054723",
   "metadata": {},
   "source": [
    "<b>Objectives:\n",
    "- Popular Languages used by Data Scientists\n",
    "- Commonly used libraries used by Data Scientists\n",
    "- Simply Arithmetic\n",
    "    "
   ]
  },
  {
   "cell_type": "markdown",
   "id": "cbca2247-18d3-49ce-856a-fee334c03a82",
   "metadata": {},
   "source": [
    "Some of the popular languages that Data Scientists use are:\n",
    "\n",
    "1. Python\n",
    "2. SQL\n",
    "3. R "
   ]
  },
  {
   "cell_type": "markdown",
   "id": "1044ce0b-dd68-41f0-b2d9-4e373d9a0a07",
   "metadata": {
    "tags": []
   },
   "source": [
    "Some of the commonly used libraries used by Data Scientists include:\n",
    "\n",
    "1. Matplotlib\n",
    "2. Pandas\n",
    "3. Numpy"
   ]
  },
  {
   "cell_type": "markdown",
   "id": "d52ac584-24d7-4055-ba21-9e3a8bea8ef7",
   "metadata": {},
   "source": [
    "|Data Scence Tools|\n",
    "|--------------------|\n",
    "|RStudio|\n",
    "|Apache Spark|\n",
    "|TensorFlow|"
   ]
  },
  {
   "cell_type": "markdown",
   "id": "79094e45-829c-49c6-a40e-a2f34903d10f",
   "metadata": {},
   "source": [
    "<h3>Below are a few examples of evaluating arithmetic expressions in Python"
   ]
  },
  {
   "cell_type": "code",
   "execution_count": 3,
   "id": "31a2fa4b-9ef8-44ae-89b5-0fd5675b5417",
   "metadata": {
    "tags": []
   },
   "outputs": [
    {
     "data": {
      "text/plain": [
       "17"
      ]
     },
     "execution_count": 3,
     "metadata": {},
     "output_type": "execute_result"
    }
   ],
   "source": [
    "##This a simple arithmetic expression to mutiply then add integers\n",
    "(3*4)+5"
   ]
  },
  {
   "cell_type": "code",
   "execution_count": 4,
   "id": "6b98d21d-2b81-4586-aa9e-8f24efd5a1c1",
   "metadata": {
    "tags": []
   },
   "outputs": [
    {
     "data": {
      "text/plain": [
       "3.3333333333333335"
      ]
     },
     "execution_count": 4,
     "metadata": {},
     "output_type": "execute_result"
    }
   ],
   "source": [
    "##This will convert 200 minutes to hours by diving by 60\n",
    "200/60"
   ]
  },
  {
   "cell_type": "code",
   "execution_count": null,
   "id": "0305f4f4-462a-4799-b3a8-19753b486232",
   "metadata": {},
   "outputs": [],
   "source": []
  }
 ],
 "metadata": {
  "kernelspec": {
   "display_name": "Python 3 (ipykernel)",
   "language": "python",
   "name": "python3"
  },
  "language_info": {
   "codemirror_mode": {
    "name": "ipython",
    "version": 3
   },
   "file_extension": ".py",
   "mimetype": "text/x-python",
   "name": "python",
   "nbconvert_exporter": "python",
   "pygments_lexer": "ipython3",
   "version": "3.11.4"
  }
 },
 "nbformat": 4,
 "nbformat_minor": 5
}
